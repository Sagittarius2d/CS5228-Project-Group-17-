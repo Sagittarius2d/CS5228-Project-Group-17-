{
 "cells": [
  {
   "cell_type": "code",
   "execution_count": 2,
   "id": "934909b6",
   "metadata": {},
   "outputs": [],
   "source": [
    "import pandas as pd\n",
    "import numpy as np\n",
    "import matplotlib.pyplot as plt\n",
    "import seaborn as sns\n",
    "import warnings\n",
    "warnings.filterwarnings(\"ignore\") "
   ]
  },
  {
   "cell_type": "code",
   "execution_count": 101,
   "id": "41e8b8a0",
   "metadata": {},
   "outputs": [],
   "source": [
    "train_path = 'data/train.csv'\n",
    "test_path = 'data/test.csv'"
   ]
  },
  {
   "cell_type": "code",
   "execution_count": 102,
   "id": "f402cd78",
   "metadata": {},
   "outputs": [],
   "source": [
    "train = pd.read_csv(train_path)\n",
    "test = pd.read_csv(test_path)"
   ]
  },
  {
   "cell_type": "markdown",
   "id": "59f45c50",
   "metadata": {},
   "source": [
    "# Drop duplicates & missing data"
   ]
  },
  {
   "cell_type": "code",
   "execution_count": 81,
   "id": "20462ce8",
   "metadata": {},
   "outputs": [
    {
     "name": "stdout",
     "output_type": "stream",
     "text": [
      "Shape of duplicated data: (6422, 16)\n"
     ]
    }
   ],
   "source": [
    "isDuplicated = train.duplicated()\n",
    "print('Shape of duplicated data:', train[isDuplicated].shape)\n",
    "train = train.drop_duplicates()"
   ]
  },
  {
   "cell_type": "code",
   "execution_count": 16,
   "id": "bd6f01c3",
   "metadata": {},
   "outputs": [
    {
     "name": "stdout",
     "output_type": "stream",
     "text": [
      "Missing data of each field:\n",
      "town                   0\n",
      "flat_type              0\n",
      "block                  0\n",
      "street_name            0\n",
      "storey_range           0\n",
      "floor_area_sqm         0\n",
      "flat_model             0\n",
      "eco_category           0\n",
      "lease_commence_date    0\n",
      "latitude               0\n",
      "longitude              0\n",
      "elevation              0\n",
      "subzone                0\n",
      "planning_area          0\n",
      "region                 0\n",
      "resale_price           0\n",
      "dtype: int64\n"
     ]
    }
   ],
   "source": [
    "print('Missing data of each field:')\n",
    "print(train.isnull().sum())"
   ]
  },
  {
   "cell_type": "markdown",
   "id": "aed1c008",
   "metadata": {},
   "source": [
    "# Split X and Y"
   ]
  },
  {
   "cell_type": "code",
   "execution_count": 103,
   "id": "eec91840",
   "metadata": {},
   "outputs": [],
   "source": [
    "y_train = train.iloc[:,-1]\n",
    "X_train = train.iloc[:,:-1]\n",
    "X_test = test"
   ]
  },
  {
   "cell_type": "markdown",
   "id": "c7650094",
   "metadata": {},
   "source": [
    "# Feature Engineering"
   ]
  },
  {
   "cell_type": "code",
   "execution_count": 104,
   "id": "269db817",
   "metadata": {},
   "outputs": [],
   "source": [
    "nominal_features = list(X_train.select_dtypes(include=['object']))\n",
    "numerical_features = list(X_train.select_dtypes(include = ['int64','float']))\n",
    "bool_features = list(X_train.select_dtypes(include = ['bool']))"
   ]
  },
  {
   "cell_type": "markdown",
   "id": "cbb0b540",
   "metadata": {},
   "source": [
    "nominal:['town', 'flat_type', 'block', 'street_name', 'storey_range', 'flat_model', 'eco_category', 'subzone', 'planning_area', 'region']\n",
    "\n",
    "numerical:['floor_area_sqm',\n",
    " 'lease_commence_date',\n",
    " 'latitude',\n",
    " 'longitude',\n",
    " 'elevation',\n",
    " 'resale_price']\n",
    " \n",
    "bool: []"
   ]
  },
  {
   "cell_type": "code",
   "execution_count": 105,
   "id": "3989db5c",
   "metadata": {},
   "outputs": [
    {
     "name": "stdout",
     "output_type": "stream",
     "text": [
      "Number of categories for nominal features:\n"
     ]
    },
    {
     "data": {
      "text/plain": [
       "town               26\n",
       "flat_type          12\n",
       "block            2472\n",
       "street_name      1103\n",
       "storey_range       25\n",
       "flat_model         20\n",
       "eco_category        1\n",
       "subzone           155\n",
       "planning_area      32\n",
       "region              5\n",
       "Name: unique, dtype: object"
      ]
     },
     "execution_count": 105,
     "metadata": {},
     "output_type": "execute_result"
    }
   ],
   "source": [
    "print('Number of categories for nominal features:')\n",
    "X_train[nominal_array].describe().loc['unique']"
   ]
  },
  {
   "cell_type": "code",
   "execution_count": 84,
   "id": "e7c230a5",
   "metadata": {},
   "outputs": [],
   "source": [
    "# Drop\n",
    "drop_features = ['eco_category']\n",
    "\n",
    "X_train.drop(drop_features, axis=1, inplace=True)\n",
    "X_test.drop(drop_features, axis=1, inplace=True)"
   ]
  },
  {
   "cell_type": "code",
   "execution_count": 85,
   "id": "d33faf19",
   "metadata": {},
   "outputs": [],
   "source": [
    "# Target Encoding\n",
    "target_features = ['town', 'flat_type', 'block', 'street_name', 'storey_range', 'flat_model', 'subzone', 'planning_area']\n",
    "\n",
    "import category_encoders as ce\n",
    "target_encoder = ce.TargetEncoder(cols=target_features)\n",
    "target_encoder.fit(X_train, y_train)\n",
    "\n",
    "# transform the training and test data\n",
    "X_train = target_encoder.transform(X_train)\n",
    "X_test = target_encoder.transform(X_test)\n"
   ]
  },
  {
   "cell_type": "code",
   "execution_count": 86,
   "id": "82c23ee7",
   "metadata": {},
   "outputs": [],
   "source": [
    "# One-hot encoding \n",
    "onehot_features = ['region']\n",
    "\n",
    "X_train = pd.get_dummies(X_train, columns=onehot_features)\n",
    "X_test = pd.get_dummies(X_test, columns=onehot_features)\n",
    "\n",
    "# keep only the common columns in the training and test data\n",
    "common_columns = X_train.columns.intersection(X_test.columns)\n",
    "X_train = X_train[common_columns]\n",
    "X_test = X_test[common_columns]"
   ]
  },
  {
   "cell_type": "markdown",
   "id": "64f6292c",
   "metadata": {},
   "source": [
    "# Standardization"
   ]
  },
  {
   "cell_type": "code",
   "execution_count": 87,
   "id": "63070660",
   "metadata": {},
   "outputs": [],
   "source": [
    "from sklearn.preprocessing import StandardScaler\n",
    "\n",
    "scaler = StandardScaler()\n",
    "scaler.fit(X_train)\n",
    "\n",
    "X_train = scaler.transform(X_train)\n",
    "X_test = scaler.transform(X_test)"
   ]
  },
  {
   "cell_type": "code",
   "execution_count": null,
   "id": "f295ab1d",
   "metadata": {},
   "outputs": [],
   "source": []
  }
 ],
 "metadata": {
  "kernelspec": {
   "display_name": "Python 3 (ipykernel)",
   "language": "python",
   "name": "python3"
  },
  "language_info": {
   "codemirror_mode": {
    "name": "ipython",
    "version": 3
   },
   "file_extension": ".py",
   "mimetype": "text/x-python",
   "name": "python",
   "nbconvert_exporter": "python",
   "pygments_lexer": "ipython3",
   "version": "3.8.12"
  }
 },
 "nbformat": 4,
 "nbformat_minor": 5
}
